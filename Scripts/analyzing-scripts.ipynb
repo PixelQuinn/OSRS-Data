{
 "cells": [
  {
   "cell_type": "code",
   "id": "initial_id",
   "metadata": {
    "collapsed": true,
    "ExecuteTime": {
     "end_time": "2024-04-29T20:49:38.946233Z",
     "start_time": "2024-04-29T20:49:38.943246Z"
    }
   },
   "source": [
    "# Import the good stuff!\n",
    "import pandas as pd\n",
    "import matplotlib.pyplot as plt\n",
    "import seaborn as sns\n"
   ],
   "outputs": [],
   "execution_count": 4
  },
  {
   "metadata": {
    "ExecuteTime": {
     "end_time": "2024-04-29T20:51:53.136968Z",
     "start_time": "2024-04-29T20:51:53.131509Z"
    }
   },
   "cell_type": "code",
   "source": [
    "# Read .csv\n",
    "data = pd.read_csv(\"C:\\\\Users\\\\Zehir\\\\Documents\\\\GitHub\\\\OSRS-Data\\\\data\\\\Osrs-skill-data.csv\")"
   ],
   "id": "af246879b4465db8",
   "outputs": [],
   "execution_count": 6
  },
  {
   "metadata": {
    "ExecuteTime": {
     "end_time": "2024-04-29T20:55:25.447293Z",
     "start_time": "2024-04-29T20:55:25.434850Z"
    }
   },
   "cell_type": "code",
   "source": [
    "# Testing csv\n",
    "data.head()"
   ],
   "id": "4820adbc71f85f1d",
   "outputs": [
    {
     "data": {
      "text/plain": [
       "         Skill: Level 99 Count  200M XP Count  Ironman  Hardcore Iron(Total)  \\\n",
       "0        Attack        354,368          431.0      NaN                   NaN   \n",
       "1  HealthPoints        522,588          825.0      NaN                   NaN   \n",
       "2        Mining        108,929          163.0      NaN                   NaN   \n",
       "3      Strength        542,066         1005.0      NaN                   NaN   \n",
       "4       Agility         78,538          154.0      NaN                   NaN   \n",
       "\n",
       "   Hardcore Iron(Alive)  Ultimate Ironman  \n",
       "0                   NaN               NaN  \n",
       "1                   NaN               NaN  \n",
       "2                   NaN               NaN  \n",
       "3                   NaN               NaN  \n",
       "4                   NaN               NaN  "
      ],
      "text/html": [
       "<div>\n",
       "<style scoped>\n",
       "    .dataframe tbody tr th:only-of-type {\n",
       "        vertical-align: middle;\n",
       "    }\n",
       "\n",
       "    .dataframe tbody tr th {\n",
       "        vertical-align: top;\n",
       "    }\n",
       "\n",
       "    .dataframe thead th {\n",
       "        text-align: right;\n",
       "    }\n",
       "</style>\n",
       "<table border=\"1\" class=\"dataframe\">\n",
       "  <thead>\n",
       "    <tr style=\"text-align: right;\">\n",
       "      <th></th>\n",
       "      <th>Skill:</th>\n",
       "      <th>Level 99 Count</th>\n",
       "      <th>200M XP Count</th>\n",
       "      <th>Ironman</th>\n",
       "      <th>Hardcore Iron(Total)</th>\n",
       "      <th>Hardcore Iron(Alive)</th>\n",
       "      <th>Ultimate Ironman</th>\n",
       "    </tr>\n",
       "  </thead>\n",
       "  <tbody>\n",
       "    <tr>\n",
       "      <th>0</th>\n",
       "      <td>Attack</td>\n",
       "      <td>354,368</td>\n",
       "      <td>431.0</td>\n",
       "      <td>NaN</td>\n",
       "      <td>NaN</td>\n",
       "      <td>NaN</td>\n",
       "      <td>NaN</td>\n",
       "    </tr>\n",
       "    <tr>\n",
       "      <th>1</th>\n",
       "      <td>HealthPoints</td>\n",
       "      <td>522,588</td>\n",
       "      <td>825.0</td>\n",
       "      <td>NaN</td>\n",
       "      <td>NaN</td>\n",
       "      <td>NaN</td>\n",
       "      <td>NaN</td>\n",
       "    </tr>\n",
       "    <tr>\n",
       "      <th>2</th>\n",
       "      <td>Mining</td>\n",
       "      <td>108,929</td>\n",
       "      <td>163.0</td>\n",
       "      <td>NaN</td>\n",
       "      <td>NaN</td>\n",
       "      <td>NaN</td>\n",
       "      <td>NaN</td>\n",
       "    </tr>\n",
       "    <tr>\n",
       "      <th>3</th>\n",
       "      <td>Strength</td>\n",
       "      <td>542,066</td>\n",
       "      <td>1005.0</td>\n",
       "      <td>NaN</td>\n",
       "      <td>NaN</td>\n",
       "      <td>NaN</td>\n",
       "      <td>NaN</td>\n",
       "    </tr>\n",
       "    <tr>\n",
       "      <th>4</th>\n",
       "      <td>Agility</td>\n",
       "      <td>78,538</td>\n",
       "      <td>154.0</td>\n",
       "      <td>NaN</td>\n",
       "      <td>NaN</td>\n",
       "      <td>NaN</td>\n",
       "      <td>NaN</td>\n",
       "    </tr>\n",
       "  </tbody>\n",
       "</table>\n",
       "</div>"
      ]
     },
     "execution_count": 7,
     "metadata": {},
     "output_type": "execute_result"
    }
   ],
   "execution_count": 7
  },
  {
   "metadata": {},
   "cell_type": "code",
   "outputs": [],
   "execution_count": null,
   "source": "",
   "id": "456e5e6aaaf6a529"
  }
 ],
 "metadata": {
  "kernelspec": {
   "display_name": "Python 3",
   "language": "python",
   "name": "python3"
  },
  "language_info": {
   "codemirror_mode": {
    "name": "ipython",
    "version": 2
   },
   "file_extension": ".py",
   "mimetype": "text/x-python",
   "name": "python",
   "nbconvert_exporter": "python",
   "pygments_lexer": "ipython2",
   "version": "2.7.6"
  }
 },
 "nbformat": 4,
 "nbformat_minor": 5
}
